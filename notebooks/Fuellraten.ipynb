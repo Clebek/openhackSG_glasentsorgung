{
 "cells": [
  {
   "cell_type": "markdown",
   "metadata": {},
   "source": [
    "# Notebook "
   ]
  },
  {
   "cell_type": "code",
   "execution_count": 9,
   "metadata": {},
   "outputs": [],
   "source": [
    "import pandas as pd\n",
    "from scipy.signal import medfilt\n",
    "import numpy as np\n",
    "import matplotlib.pyplot as plt\n",
    "from datetime import datetime as dt"
   ]
  },
  {
   "cell_type": "code",
   "execution_count": 2,
   "metadata": {},
   "outputs": [],
   "source": [
    "# Loading data\n",
    "df_weiss = pd.read_csv('../data/fuellstandsensoren-glassammelstellen-weissglas.csv',sep=';')\n",
    "df_gruen = pd.read_csv('../data/fuellstandsensoren-glassammelstellen-gruenglas.csv',sep=';')\n",
    "df_braun = pd.read_csv('../data/fuellstandsensoren-glassammelstellen-braunglas.csv',sep=';')\n",
    "\n",
    "df_weiss = df_weiss[['measured_at','data_distance','geo_point_2d','device_id']]\n",
    "df_gruen = df_gruen[['measured_at','data_distance','geo_point_2d','device_id']]\n",
    "df_braun = df_braun[['measured_at','data_distance','geo_point_2d','device_id']]\n",
    "\n",
    "df_weiss['color'] = 'weiss'\n",
    "df_gruen['color'] = 'gruen'\n",
    "df_braun['color'] = 'braun'\n",
    "\n",
    "df = pd.concat([df_weiss,df_braun,df_gruen])\n"
   ]
  },
  {
   "cell_type": "code",
   "execution_count": 3,
   "metadata": {},
   "outputs": [
    {
     "name": "stderr",
     "output_type": "stream",
     "text": [
      "/tmp/ipykernel_168866/1996673782.py:5: FutureWarning: In a future version of pandas, parsing datetimes with mixed time zones will raise an error unless `utc=True`. Please specify `utc=True` to opt in to the new behaviour and silence this warning. To create a `Series` with mixed offsets and `object` dtype, please use `apply` and `datetime.datetime.strptime`\n",
      "  df['datetime'] = pd.to_datetime(df['measured_at'])\n"
     ]
    }
   ],
   "source": [
    "# Data cleaning\n",
    "df.dropna(subset=['data_distance'],inplace=True)\n",
    "df = df[df['data_distance'] != 2500]\n",
    "df = df[df['data_distance'] != 300]\n",
    "df['datetime'] = pd.to_datetime(df['measured_at'])\n",
    "df['seconds'] = df['datetime'].apply(lambda x: dt.timestamp(x))\n",
    "df.sort_values(by=['datetime'],inplace=True)"
   ]
  },
  {
   "cell_type": "code",
   "execution_count": 10,
   "metadata": {},
   "outputs": [
    {
     "name": "stderr",
     "output_type": "stream",
     "text": [
      "/tmp/ipykernel_168866/4113225383.py:4: FutureWarning: The behavior of DataFrame concatenation with empty or all-NA entries is deprecated. In a future version, this will no longer exclude empty or all-NA columns when determining the result dtypes. To retain the old behavior, exclude the relevant entries before the concat operation.\n",
      "  dev_df = pd.concat((dev_df,pd.DataFrame({'device_id':dev_id,'max_val':np.max(estimates),'min_val':np.min(estimates),'max_capacity':np.max(estimates)-np.min(estimates)},index=[0])),ignore_index=True)\n"
     ]
    }
   ],
   "source": [
    "dev_df = pd.DataFrame(columns=['device_id','max_val','min_val','max_capacity'])\n",
    "for dev_id in set(df['device_id'].values):\n",
    "    estimates = medfilt(df[df['device_id'] == dev_id]['data_distance'],kernel_size=11)\n",
    "    dev_df = pd.concat((dev_df,pd.DataFrame({'device_id':dev_id,'max_val':np.max(estimates),'min_val':np.min(estimates),'max_capacity':np.max(estimates)-np.min(estimates)},index=[0])),ignore_index=True)\n"
   ]
  },
  {
   "cell_type": "code",
   "execution_count": null,
   "metadata": {},
   "outputs": [],
   "source": [
    "dev_fuellraten = pd.DataFrame(columns=['device_id','datetime','fuellrate'])\n",
    "for device_id in set(df['device_id'].values):\n",
    "    device_df = df[df['device_id'] == device_id]\n",
    "    estimates = medfilt(device_df['data_distance'].values,kernel_size=11)\n",
    "    changes = estimates[2:] - estimates[:-2]\n",
    "    last_change = 0\n",
    "    for idx, change in enumerate(changes):\n",
    "        if change > 300:\n",
    "            change_time = device_df['datetime'].values[idx]\n",
    "            interval = device_df.iloc[last_change:idx]\n",
    "            last_change =idx\n",
    "            min_val = min(interval['data_distance'])\n",
    "    \n",
    "            plt.axvline(x = device_df['datetime'].values[idx])"
   ]
  }
 ],
 "metadata": {
  "kernelspec": {
   "display_name": "Python 3",
   "language": "python",
   "name": "python3"
  },
  "language_info": {
   "codemirror_mode": {
    "name": "ipython",
    "version": 3
   },
   "file_extension": ".py",
   "mimetype": "text/x-python",
   "name": "python",
   "nbconvert_exporter": "python",
   "pygments_lexer": "ipython3",
   "version": "3.10.12"
  }
 },
 "nbformat": 4,
 "nbformat_minor": 2
}
